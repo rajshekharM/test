{
  "nbformat": 4,
  "nbformat_minor": 0,
  "metadata": {
    "colab": {
      "name": "TVM VTA Matrix Multiply.ipynb",
      "provenance": [],
      "include_colab_link": true
    },
    "kernelspec": {
      "name": "python3",
      "display_name": "Python 3"
    }
  },
  "cells": [
    {
      "cell_type": "markdown",
      "metadata": {
        "id": "view-in-github",
        "colab_type": "text"
      },
      "source": [
        "<a href=\"https://colab.research.google.com/github/rajshekharM/test/blob/master/TVM_VTA_Matrix_Multiply.ipynb\" target=\"_parent\"><img src=\"https://colab.research.google.com/assets/colab-badge.svg\" alt=\"Open In Colab\"/></a>"
      ]
    },
    {
      "cell_type": "code",
      "metadata": {
        "id": "Riy-hOl1nSUb",
        "colab_type": "code",
        "colab": {
          "base_uri": "https://localhost:8080/",
          "height": 1000
        },
        "outputId": "f474fc39-2bd0-49ec-e700-50f39d41a1bb"
      },
      "source": [
        "try:\n",
        "  import google.colab\n",
        "  IN_COLAB = True\n",
        "except:\n",
        "  IN_COLAB = False\n",
        "\n",
        "if IN_COLAB:\n",
        "    ! gsutil cp \"gs://tvm-fcrc-binaries-7f775516ff9dfab922c304049f294cec/tvm.tar.gz\" /tmp/tvm.tar.gz\n",
        "    ! mkdir -p /tvm\n",
        "    ! tar -xf /tmp/tvm.tar.gz --strip-components=4 --directory /tvm\n",
        "    ! ls -la /tvm\n",
        "    ! bash /tvm/package.sh\n",
        "    # Add TVM to the Python path.\n",
        "    import sys\n",
        "    sys.path.append('/tvm/python')\n",
        "    sys.path.append('/tvm/topi/python')\n",
        "    sys.path.append('/tvm/nnvm/python')\n",
        "    sys.path.append('/tvm/vta/python')\n",
        "else:\n",
        "    print(\"Notebook executing locally, skipping Colab setup ...\")"
      ],
      "execution_count": 1,
      "outputs": [
        {
          "output_type": "stream",
          "text": [
            "Copying gs://tvm-fcrc-binaries-7f775516ff9dfab922c304049f294cec/tvm.tar.gz...\n",
            "\\ [1 files][114.5 MiB/114.5 MiB]                                                \n",
            "Operation completed over 1 objects/114.5 MiB.                                    \n",
            "total 164\n",
            "drwxr-xr-x 21 root root  4096 Nov  8 20:03 .\n",
            "drwxr-xr-x  1 root root  4096 Nov  8 20:03 ..\n",
            "drwx------  8 root root  4096 Jun 11 23:37 3rdparty\n",
            "drwx------ 12 root root  4096 Jun 11 23:37 apps\n",
            "drwx------  3 root root  4096 Jun 12 00:02 build\n",
            "drwx------  4 root root  4096 Jun 11 23:37 cmake\n",
            "-rw-------  1 root root 10406 Jun 11 23:37 CMakeLists.txt\n",
            "drwx------  6 root root  4096 Jun 11 23:37 conda\n",
            "-rw-------  1 root root  5673 Jun 11 23:37 CONTRIBUTORS.md\n",
            "drwx------  3 root root  4096 Jun 11 23:37 docker\n",
            "drwx------ 11 root root  4096 Jun 11 23:37 docs\n",
            "drwx------  4 root root  4096 Jun 11 23:37 golang\n",
            "drwx------  3 root root  4096 Jun 11 23:37 include\n",
            "-rw-------  1 root root 10542 Jun 11 23:37 Jenkinsfile\n",
            "drwx------  6 root root  4096 Jun 11 23:37 jvm\n",
            "-rw-------  1 root root 11357 Jun 11 23:37 LICENSE\n",
            "-rw-------  1 root root  4267 Jun 11 23:37 Makefile\n",
            "-rw-------  1 root root 10476 Jun 11 23:37 NEWS.md\n",
            "drwx------  9 root root  4096 Jun 11 23:37 nnvm\n",
            "-rw-------  1 root root    61 Jun 11 23:37 NOTICE\n",
            "-rwx------  1 root root   374 Jun 11 23:37 package.sh\n",
            "drwx------  3 root root  4096 Jun 11 23:37 python\n",
            "-rw-------  1 root root  2705 Jun 11 23:37 README.md\n",
            "drwx------  6 root root  4096 Jun 11 23:37 rust\n",
            "drwx------ 14 root root  4096 Jun 11 23:38 src\n",
            "drwx------  9 root root  4096 Jun 11 23:38 tests\n",
            "drwx------  7 root root  4096 Jun 11 23:38 topi\n",
            "drwx------  8 root root  4096 Jun 11 23:38 tutorials\n",
            "-rw-------  1 root root  2902 Jun 11 23:38 version.py\n",
            "drwx------ 11 root root  4096 Jun 11 23:38 vta\n",
            "drwx------  2 root root  4096 Jun 11 23:38 web\n",
            "Installing Dependencies ...\n",
            "deb https://dl.bintray.com/sbt/debian /\n",
            "Executing: /tmp/apt-key-gpghome.eC0PXPc18L/gpg.1.sh --keyserver hkp://keyserver.ubuntu.com:80 --recv 2EE0EA64E40A89B84B2DF73499E82A75642AC823\n",
            "gpg: key 99E82A75642AC823: public key \"sbt build tool <scalasbt@gmail.com>\" imported\n",
            "gpg: Total number processed: 1\n",
            "gpg:               imported: 1\n",
            "Ign:1 https://dl.bintray.com/sbt/debian  InRelease\n",
            "Get:2 https://dl.bintray.com/sbt/debian  Release [815 B]\n",
            "Ign:3 https://developer.download.nvidia.com/compute/cuda/repos/ubuntu1804/x86_64  InRelease\n",
            "Ign:4 https://developer.download.nvidia.com/compute/machine-learning/repos/ubuntu1804/x86_64  InRelease\n",
            "Hit:5 https://developer.download.nvidia.com/compute/cuda/repos/ubuntu1804/x86_64  Release\n",
            "Hit:6 https://developer.download.nvidia.com/compute/machine-learning/repos/ubuntu1804/x86_64  Release\n",
            "Get:7 https://dl.bintray.com/sbt/debian  Release.gpg [821 B]\n",
            "Hit:8 http://ppa.launchpad.net/graphics-drivers/ppa/ubuntu bionic InRelease\n",
            "Hit:10 http://archive.ubuntu.com/ubuntu bionic InRelease\n",
            "Get:12 http://security.ubuntu.com/ubuntu bionic-security InRelease [88.7 kB]\n",
            "Get:13 https://cloud.r-project.org/bin/linux/ubuntu bionic-cran35/ InRelease [3,626 B]\n",
            "Get:14 https://dl.bintray.com/sbt/debian  Packages [3,753 B]\n",
            "Hit:15 http://ppa.launchpad.net/marutter/c2d4u3.5/ubuntu bionic InRelease\n",
            "Get:16 http://archive.ubuntu.com/ubuntu bionic-updates InRelease [88.7 kB]\n",
            "Get:17 http://archive.ubuntu.com/ubuntu bionic-backports InRelease [74.6 kB]\n",
            "Get:18 http://security.ubuntu.com/ubuntu bionic-security/universe amd64 Packages [782 kB]\n",
            "Get:19 http://archive.ubuntu.com/ubuntu bionic-updates/main amd64 Packages [996 kB]\n",
            "Get:20 http://security.ubuntu.com/ubuntu bionic-security/main amd64 Packages [700 kB]\n",
            "Get:21 http://archive.ubuntu.com/ubuntu bionic-updates/universe amd64 Packages [1,309 kB]\n",
            "Get:22 http://archive.ubuntu.com/ubuntu bionic-updates/restricted amd64 Packages [25.9 kB]\n",
            "Fetched 4,074 kB in 4s (946 kB/s)\n",
            "Reading package lists... Done\n",
            "Reading package lists...\n",
            "Building dependency tree...\n",
            "Reading state information...\n",
            "zlib1g-dev is already the newest version (1:1.2.11.dfsg-0ubuntu2).\n",
            "zlib1g-dev set to manually installed.\n",
            "clinfo is already the newest version (2.2.18.03.26-1).\n",
            "libtinfo-dev is already the newest version (6.1-1ubuntu1.18.04).\n",
            "libtinfo-dev set to manually installed.\n",
            "Suggested packages:\n",
            "  llvm-6.0-doc\n",
            "The following NEW packages will be installed:\n",
            "  binfmt-support libffi-dev llvm-6.0 llvm-6.0-dev llvm-6.0-runtime tree\n",
            "0 upgraded, 6 newly installed, 0 to remove and 68 not upgraded.\n",
            "Need to get 28.3 MB of archives.\n",
            "After this operation, 178 MB of additional disk space will be used.\n",
            "Get:1 http://archive.ubuntu.com/ubuntu bionic/main amd64 binfmt-support amd64 2.1.8-2 [51.6 kB]\n",
            "Get:2 http://archive.ubuntu.com/ubuntu bionic/main amd64 llvm-6.0-runtime amd64 1:6.0-1ubuntu2 [200 kB]\n",
            "Get:3 http://archive.ubuntu.com/ubuntu bionic/main amd64 llvm-6.0 amd64 1:6.0-1ubuntu2 [4,838 kB]\n",
            "Get:4 http://archive.ubuntu.com/ubuntu bionic/main amd64 libffi-dev amd64 3.2.1-8 [156 kB]\n",
            "Get:5 http://archive.ubuntu.com/ubuntu bionic/main amd64 llvm-6.0-dev amd64 1:6.0-1ubuntu2 [23.0 MB]\n",
            "Get:6 http://archive.ubuntu.com/ubuntu bionic/universe amd64 tree amd64 1.7.0-5 [40.7 kB]\n",
            "Fetched 28.3 MB in 6s (4,508 kB/s)\n",
            "debconf: unable to initialize frontend: Dialog\n",
            "debconf: (No usable dialog-like program is installed, so the dialog based frontend cannot be used. at /usr/share/perl5/Debconf/FrontEnd/Dialog.pm line 76, <> line 6.)\n",
            "debconf: falling back to frontend: Readline\n",
            "debconf: unable to initialize frontend: Readline\n",
            "debconf: (This frontend requires a controlling tty.)\n",
            "debconf: falling back to frontend: Teletype\n",
            "dpkg-preconfigure: unable to re-open stdin: \n",
            "Selecting previously unselected package binfmt-support.\n",
            "(Reading database ... 132684 files and directories currently installed.)\n",
            "Preparing to unpack .../0-binfmt-support_2.1.8-2_amd64.deb ...\n",
            "Unpacking binfmt-support (2.1.8-2) ...\n",
            "Selecting previously unselected package llvm-6.0-runtime.\n",
            "Preparing to unpack .../1-llvm-6.0-runtime_1%3a6.0-1ubuntu2_amd64.deb ...\n",
            "Unpacking llvm-6.0-runtime (1:6.0-1ubuntu2) ...\n",
            "Selecting previously unselected package llvm-6.0.\n",
            "Preparing to unpack .../2-llvm-6.0_1%3a6.0-1ubuntu2_amd64.deb ...\n",
            "Unpacking llvm-6.0 (1:6.0-1ubuntu2) ...\n",
            "Selecting previously unselected package libffi-dev:amd64.\n",
            "Preparing to unpack .../3-libffi-dev_3.2.1-8_amd64.deb ...\n",
            "Unpacking libffi-dev:amd64 (3.2.1-8) ...\n",
            "Selecting previously unselected package llvm-6.0-dev.\n",
            "Preparing to unpack .../4-llvm-6.0-dev_1%3a6.0-1ubuntu2_amd64.deb ...\n",
            "Unpacking llvm-6.0-dev (1:6.0-1ubuntu2) ...\n",
            "Selecting previously unselected package tree.\n",
            "Preparing to unpack .../5-tree_1.7.0-5_amd64.deb ...\n",
            "Unpacking tree (1.7.0-5) ...\n",
            "Setting up binfmt-support (2.1.8-2) ...\n",
            "Created symlink /etc/systemd/system/multi-user.target.wants/binfmt-support.service → /lib/systemd/system/binfmt-support.service.\n",
            "invoke-rc.d: could not determine current runlevel\n",
            "invoke-rc.d: policy-rc.d denied execution of start.\n",
            "Setting up tree (1.7.0-5) ...\n",
            "Setting up libffi-dev:amd64 (3.2.1-8) ...\n",
            "Setting up llvm-6.0-runtime (1:6.0-1ubuntu2) ...\n",
            "Processing triggers for libc-bin (2.27-3ubuntu1) ...\n",
            "Setting up llvm-6.0 (1:6.0-1ubuntu2) ...\n",
            "Processing triggers for systemd (237-3ubuntu10.31) ...\n",
            "Processing triggers for man-db (2.8.3-2ubuntu0.1) ...\n",
            "Setting up llvm-6.0-dev (1:6.0-1ubuntu2) ...\n",
            "Processing triggers for libc-bin (2.27-3ubuntu1) ...\n",
            "Reading package lists... Done\n",
            "Building dependency tree       \n",
            "Reading state information... Done\n",
            "Suggested packages:\n",
            "  gtkwave systemc\n",
            "The following NEW packages will be installed:\n",
            "  sbt verilator\n",
            "0 upgraded, 2 newly installed, 0 to remove and 68 not upgraded.\n",
            "Need to get 4,112 kB of archives.\n",
            "After this operation, 14.6 MB of additional disk space will be used.\n",
            "Get:1 https://dl.bintray.com/sbt/debian  sbt 1.3.3 [1,233 kB]\n",
            "Get:2 http://archive.ubuntu.com/ubuntu bionic/universe amd64 verilator amd64 3.916-1build1 [2,878 kB]\n",
            "Fetched 4,112 kB in 1s (2,995 kB/s)\n",
            "debconf: unable to initialize frontend: Dialog\n",
            "debconf: (No usable dialog-like program is installed, so the dialog based frontend cannot be used. at /usr/share/perl5/Debconf/FrontEnd/Dialog.pm line 76, <> line 2.)\n",
            "debconf: falling back to frontend: Readline\n",
            "debconf: unable to initialize frontend: Readline\n",
            "debconf: (This frontend requires a controlling tty.)\n",
            "debconf: falling back to frontend: Teletype\n",
            "dpkg-preconfigure: unable to re-open stdin: \n",
            "Selecting previously unselected package sbt.\n",
            "(Reading database ... 134325 files and directories currently installed.)\n",
            "Preparing to unpack .../apt/archives/sbt_1.3.3_all.deb ...\n",
            "Unpacking sbt (1.3.3) ...\n",
            "Selecting previously unselected package verilator.\n",
            "Preparing to unpack .../verilator_3.916-1build1_amd64.deb ...\n",
            "Unpacking verilator (3.916-1build1) ...\n",
            "Processing triggers for man-db (2.8.3-2ubuntu0.1) ...\n",
            "Setting up verilator (3.916-1build1) ...\n",
            "Setting up sbt (1.3.3) ...\n",
            "Creating system group: sbt\n",
            "Creating system user: sbt in sbt with sbt daemon-user and shell /bin/false\n"
          ],
          "name": "stdout"
        }
      ]
    },
    {
      "cell_type": "code",
      "metadata": {
        "id": "fd6qDV_TnqQu",
        "colab_type": "code",
        "colab": {
          "base_uri": "https://localhost:8080/",
          "height": 34
        },
        "outputId": "b221adc4-8a90-4344-bfce-115cfbf84d1b"
      },
      "source": [
        "from __future__ import absolute_import, print_function\n",
        "\n",
        "import os\n",
        "import tvm\n",
        "import vta\n",
        "import numpy as np\n",
        "from tvm import rpc\n",
        "from tvm.contrib import util\n",
        "from vta.testing import simulator\n",
        "\n",
        "# Load VTA parameters from the vta/config/vta_config.json file\n",
        "env = vta.get_env()\n",
        "\n",
        "# Print the target specified in the vta_config.json\n",
        "print(env.TARGET)"
      ],
      "execution_count": 2,
      "outputs": [
        {
          "output_type": "stream",
          "text": [
            "sim\n"
          ],
          "name": "stdout"
        }
      ]
    },
    {
      "cell_type": "code",
      "metadata": {
        "id": "oAlgMd26n2qk",
        "colab_type": "code",
        "colab": {}
      },
      "source": [
        "# We read the Pynq RPC host IP address and port number from the OS environment\n",
        "host = os.environ.get(\"VTA_PYNQ_RPC_HOST\", \"192.168.2.99\")\n",
        "port = int(os.environ.get(\"VTA_PYNQ_RPC_PORT\", \"9091\"))\n",
        "\n",
        "# We configure both the bitstream and the runtime system on the Pynq\n",
        "# to match the VTA configuration specified by the vta_config.json file.\n",
        "if env.TARGET == \"pynq\":\n",
        "\n",
        "    # Make sure that TVM was compiled with RPC=1\n",
        "    assert tvm.module.enabled(\"rpc\")\n",
        "    remote = rpc.connect(host, port)\n",
        "\n",
        "    # Reconfigure the JIT runtime\n",
        "    vta.reconfig_runtime(remote)\n",
        "\n",
        "    # Program the FPGA with a pre-compiled VTA bitstream.\n",
        "    # You can program the FPGA with your own custom bitstream\n",
        "    # by passing the path to the bitstream file instead of None.\n",
        "    vta.program_fpga(remote, bitstream=None)\n",
        "\n",
        "# In simulation mode, host the RPC server locally.\n",
        "elif env.TARGET == \"sim\":\n",
        "    remote = rpc.LocalSession()"
      ],
      "execution_count": 0,
      "outputs": []
    },
    {
      "cell_type": "code",
      "metadata": {
        "id": "eQwGWc2Rn7NS",
        "colab_type": "code",
        "colab": {
          "base_uri": "https://localhost:8080/",
          "height": 68
        },
        "outputId": "a67c7895-d9cc-4e92-fb37-cbfb1c6c0edd"
      },
      "source": [
        "# Let's look at the specific dimensions of our GEMM core\n",
        "print(\"Weights are {} by {}, of type {}\".format(\n",
        "    env.BLOCK_OUT, env.BLOCK_IN, env.wgt_dtype))\n",
        "print(\"Input activations are {} by {}, of type {}\".format(\n",
        "    env.BATCH, env.BLOCK_IN, env.inp_dtype))\n",
        "print(\"Output activations are {} by {}, of type {}\".format(\n",
        "    env.BATCH, env.BLOCK_OUT, env.acc_dtype))"
      ],
      "execution_count": 5,
      "outputs": [
        {
          "output_type": "stream",
          "text": [
            "Weights are 16 by 16, of type int8\n",
            "Input activations are 1 by 16, of type int8\n",
            "Output activations are 1 by 16, of type int32\n"
          ],
          "name": "stdout"
        }
      ]
    },
    {
      "cell_type": "code",
      "metadata": {
        "id": "mEd-RDlzn-WE",
        "colab_type": "code",
        "colab": {
          "base_uri": "https://localhost:8080/",
          "height": 68
        },
        "outputId": "0d7d5f66-1e10-4d16-e2d5-a278e38bb5a5"
      },
      "source": [
        "\n",
        "# We can also derive throughput requirements for each memory\n",
        "print(\"Weight buffer requires {} bits per cycle of read xput\".format(\n",
        "    env.BLOCK_OUT * env.BLOCK_IN * env.WGT_WIDTH))\n",
        "print(\"Input buffer requires {} bits per cycle of read xput\".format(\n",
        "    env.BATCH * env.BLOCK_IN * env.INP_WIDTH))\n",
        "print(\"Register file requires {} bits per cycle of read & write xput\".format(\n",
        "    env.BATCH * env.BLOCK_OUT * env.ACC_WIDTH))"
      ],
      "execution_count": 6,
      "outputs": [
        {
          "output_type": "stream",
          "text": [
            "Weight buffer requires 2048 bits per cycle of read xput\n",
            "Input buffer requires 128 bits per cycle of read xput\n",
            "Register file requires 512 bits per cycle of read & write xput\n"
          ],
          "name": "stdout"
        }
      ]
    },
    {
      "cell_type": "code",
      "metadata": {
        "id": "a37RwE3LoB9r",
        "colab_type": "code",
        "colab": {}
      },
      "source": [
        "# Output channel factor m - total 4=256 output channels\n",
        "m = 2\n",
        "# Input channel factor n - total 4=256 input channels\n",
        "n = 2\n",
        "# Batch factor o (we use single batch inference)\n",
        "o = 1\n",
        "# A placeholder tensor in tiled data format\n",
        "A = tvm.placeholder((o, n, env.BATCH, env.BLOCK_IN),\n",
        "                    name=\"A\", dtype=env.inp_dtype)\n",
        "# B placeholder tensor in tiled data format\n",
        "B = tvm.placeholder((m, n, env.BLOCK_OUT, env.BLOCK_IN),\n",
        "                    name=\"B\", dtype=env.wgt_dtype)\n",
        "# A copy buffer\n",
        "A_buf = tvm.compute((o, n, env.BATCH, env.BLOCK_IN),\n",
        "                    lambda *i: A(*i), \"A_buf\")\n",
        "# B copy buffer\n",
        "B_buf = tvm.compute((m, n, env.BLOCK_OUT, env.BLOCK_IN),\n",
        "                    lambda *i: B(*i), \"B_buf\")"
      ],
      "execution_count": 0,
      "outputs": []
    },
    {
      "cell_type": "code",
      "metadata": {
        "id": "40fcG8tloCMa",
        "colab_type": "code",
        "colab": {}
      },
      "source": [
        "# Outer input feature reduction axis\n",
        "ko = tvm.reduce_axis((0, n), name=\"ko\")\n",
        "# Inner input feature reduction axis\n",
        "ki = tvm.reduce_axis((0, env.BLOCK_IN), name=\"ki\")\n",
        "# Describe the in-VTA matrix multiplication\n",
        "C_buf = tvm.compute(\n",
        "    (o, m, env.BATCH, env.BLOCK_OUT),\n",
        "    lambda bo, co, bi, ci:\n",
        "        tvm.sum(A_buf[bo, ko, bi, ki].astype(env.acc_dtype) *\n",
        "                B_buf[co, ko, ci, ki].astype(env.acc_dtype),\n",
        "                axis=[ko, ki]),\n",
        "    name=\"C_buf\")"
      ],
      "execution_count": 0,
      "outputs": []
    },
    {
      "cell_type": "code",
      "metadata": {
        "id": "M3QuQejRoSpT",
        "colab_type": "code",
        "colab": {}
      },
      "source": [
        "# Cast to output type, and send to main memory\n",
        "C = tvm.compute(\n",
        "    (o, m, env.BATCH, env.BLOCK_OUT),\n",
        "    lambda *i: C_buf(*i).astype(env.inp_dtype),\n",
        "    name=\"C\")"
      ],
      "execution_count": 0,
      "outputs": []
    },
    {
      "cell_type": "code",
      "metadata": {
        "id": "5152nlBVoVOc",
        "colab_type": "code",
        "colab": {
          "base_uri": "https://localhost:8080/",
          "height": 765
        },
        "outputId": "59852fb9-cab6-46a9-8410-2848a6db70f0"
      },
      "source": [
        "# Let's take a look at the generated schedule\n",
        "s = tvm.create_schedule(C.op)\n",
        "print(tvm.lower(s, [A, B, C], simple_mode=True))"
      ],
      "execution_count": 10,
      "outputs": [
        {
          "output_type": "stream",
          "text": [
            "// attr [A_buf] storage_scope = \"global\"\n",
            "allocate A_buf[int8 * 32]\n",
            "// attr [B_buf] storage_scope = \"global\"\n",
            "allocate B_buf[int8 * 1024]\n",
            "// attr [C_buf] storage_scope = \"global\"\n",
            "allocate C_buf[int32 * 32]\n",
            "produce A_buf {\n",
            "  for (i1, 0, 2) {\n",
            "    for (i3, 0, 16) {\n",
            "      A_buf[((i1*16) + i3)] = A[((i1*16) + i3)]\n",
            "    }\n",
            "  }\n",
            "}\n",
            "produce B_buf {\n",
            "  for (i0, 0, 2) {\n",
            "    for (i1, 0, 2) {\n",
            "      for (i2, 0, 16) {\n",
            "        for (i3, 0, 16) {\n",
            "          B_buf[((((((i0*2) + i1)*16) + i2)*16) + i3)] = B[((((((i0*2) + i1)*16) + i2)*16) + i3)]\n",
            "        }\n",
            "      }\n",
            "    }\n",
            "  }\n",
            "}\n",
            "produce C_buf {\n",
            "  for (co, 0, 2) {\n",
            "    for (ci, 0, 16) {\n",
            "      C_buf[((co*16) + ci)] = 0\n",
            "      for (ko, 0, 2) {\n",
            "        for (ki, 0, 16) {\n",
            "          C_buf[((co*16) + ci)] = (C_buf[((co*16) + ci)] + (int32(A_buf[((ko*16) + ki)])*int32(B_buf[((((((co*2) + ko)*16) + ci)*16) + ki)])))\n",
            "        }\n",
            "      }\n",
            "    }\n",
            "  }\n",
            "}\n",
            "produce C {\n",
            "  for (i1, 0, 2) {\n",
            "    for (i3, 0, 16) {\n",
            "      C[((i1*16) + i3)] = int8(C_buf[((i1*16) + i3)])\n",
            "    }\n",
            "  }\n",
            "}\n",
            "\n"
          ],
          "name": "stdout"
        }
      ]
    },
    {
      "cell_type": "code",
      "metadata": {
        "id": "ngNwZ9fFoZOL",
        "colab_type": "code",
        "colab": {
          "base_uri": "https://localhost:8080/",
          "height": 34
        },
        "outputId": "b133093f-ffeb-4b4d-f4b4-f7a03442744a"
      },
      "source": [
        "# Set the intermediate tensor's scope to VTA's on-chip buffers\n",
        "s[A_buf].set_scope(env.inp_scope)\n",
        "s[B_buf].set_scope(env.wgt_scope)\n",
        "s[C_buf].set_scope(env.acc_scope)"
      ],
      "execution_count": 11,
      "outputs": [
        {
          "output_type": "execute_result",
          "data": {
            "text/plain": [
              "stage(C_buf, 0x3078470)"
            ]
          },
          "metadata": {
            "tags": []
          },
          "execution_count": 11
        }
      ]
    },
    {
      "cell_type": "code",
      "metadata": {
        "id": "KLXHySihodwc",
        "colab_type": "code",
        "colab": {
          "base_uri": "https://localhost:8080/",
          "height": 629
        },
        "outputId": "9849a2a0-14c7-4a68-f044-5dd197f64734"
      },
      "source": [
        "# Move buffer copy into matrix multiply loop\n",
        "s[A_buf].compute_at(s[C_buf], ko)\n",
        "s[B_buf].compute_at(s[C_buf], ko)\n",
        "\n",
        "# Tag the buffer copies with the DMA pragma to insert a DMA transfer\n",
        "s[A_buf].pragma(s[A_buf].op.axis[0], env.dma_copy)\n",
        "s[B_buf].pragma(s[B_buf].op.axis[0], env.dma_copy)\n",
        "s[C].pragma(s[C].op.axis[0], env.dma_copy)\n",
        "\n",
        "# Let's take a look at the transformed schedule\n",
        "print(tvm.lower(s, [A, B, C], simple_mode=True))"
      ],
      "execution_count": 12,
      "outputs": [
        {
          "output_type": "stream",
          "text": [
            "// attr [C_buf] storage_scope = \"local.acc_buffer\"\n",
            "// attr [A_buf] storage_scope = \"local.inp_buffer\"\n",
            "// attr [B_buf] storage_scope = \"local.wgt_buffer\"\n",
            "produce C_buf {\n",
            "  for (co, 0, 2) {\n",
            "    for (ci, 0, 16) {\n",
            "      C_buf[((co*16) + ci)] = 0\n",
            "      for (ko, 0, 2) {\n",
            "        produce A_buf {\n",
            "          // attr [iter_var(i0, )] pragma_dma_copy = 1\n",
            "          for (i3, 0, 16) {\n",
            "            A_buf[i3] = A[((ko*16) + i3)]\n",
            "          }\n",
            "        }\n",
            "        produce B_buf {\n",
            "          // attr [iter_var(i0, )] pragma_dma_copy = 1\n",
            "          for (i3, 0, 16) {\n",
            "            B_buf[i3] = B[((((((co*2) + ko)*16) + ci)*16) + i3)]\n",
            "          }\n",
            "        }\n",
            "        for (ki, 0, 16) {\n",
            "          C_buf[((co*16) + ci)] = (C_buf[((co*16) + ci)] + (int32(A_buf[ki])*int32(B_buf[ki])))\n",
            "        }\n",
            "      }\n",
            "    }\n",
            "  }\n",
            "}\n",
            "produce C {\n",
            "  // attr [iter_var(i0, )] pragma_dma_copy = 1\n",
            "  for (i1, 0, 2) {\n",
            "    for (i3, 0, 16) {\n",
            "      C[((i1*16) + i3)] = int8(C_buf[((i1*16) + i3)])\n",
            "    }\n",
            "  }\n",
            "}\n",
            "\n"
          ],
          "name": "stdout"
        }
      ]
    },
    {
      "cell_type": "code",
      "metadata": {
        "id": "Zhy1kLh9ogDf",
        "colab_type": "code",
        "colab": {
          "base_uri": "https://localhost:8080/",
          "height": 663
        },
        "outputId": "ce760714-9ca3-4807-c6d7-0e0ad455f54f"
      },
      "source": [
        "s[C_buf].reorder(\n",
        "    ko,\n",
        "    s[C_buf].op.axis[0],\n",
        "    s[C_buf].op.axis[1],\n",
        "    s[C_buf].op.axis[2],\n",
        "    s[C_buf].op.axis[3],\n",
        "    ki)\n",
        "s[C_buf].tensorize(s[C_buf].op.axis[2], env.gemm)\n",
        "\n",
        "# Let's take a look at the finalized schedule\n",
        "print(vta.lower(s, [A, B, C], simple_mode=True))"
      ],
      "execution_count": 13,
      "outputs": [
        {
          "output_type": "stream",
          "text": [
            "// attr [C_buf] storage_scope = \"local.acc_buffer\"\n",
            "// attr [A_buf] storage_scope = \"local.inp_buffer\"\n",
            "// attr [B_buf] storage_scope = \"local.wgt_buffer\"\n",
            "produce C_buf {\n",
            "  // attr [iter_var(vta, , vta)] coproc_scope = 2\n",
            "  // attr [iter_var(vta, , vta)] coproc_uop_scope = \"VTAPushGEMMOp\"\n",
            "  VTAUopLoopBegin(2, 1, 0, 0)\n",
            "  VTAUopPush(0, 1, 0, 0, 0, 0, 0, 0)\n",
            "  VTAUopLoopEnd()\n",
            "  vta.coproc_dep_push(2, 1)\n",
            "  for (ko, 0, 2) {\n",
            "    // attr [iter_var(vta, , vta)] coproc_scope = 1\n",
            "    vta.coproc_dep_pop(2, 1)\n",
            "    produce A_buf {\n",
            "      VTALoadBuffer2D(tvm_thread_context(VTATLSCommandHandle()), A, ko, 1, 1, 1, 0, 0, 0, 0, 0, 2)\n",
            "    }\n",
            "    produce B_buf {\n",
            "      VTALoadBuffer2D(tvm_thread_context(VTATLSCommandHandle()), B, ko, 1, 2, 2, 0, 0, 0, 0, 0, 1)\n",
            "    }\n",
            "    vta.coproc_dep_push(1, 2)\n",
            "    // attr [iter_var(vta, , vta)] coproc_scope = 2\n",
            "    vta.coproc_dep_pop(1, 2)\n",
            "    // attr [iter_var(vta, , vta)] coproc_uop_scope = \"VTAPushGEMMOp\"\n",
            "    VTAUopLoopBegin(2, 1, 0, 1)\n",
            "    VTAUopPush(0, 0, 0, 0, 0, 0, 0, 0)\n",
            "    VTAUopLoopEnd()\n",
            "    vta.coproc_dep_push(2, 1)\n",
            "  }\n",
            "  vta.coproc_dep_push(2, 3)\n",
            "  vta.coproc_dep_pop(2, 1)\n",
            "}\n",
            "// attr [iter_var(vta, , vta)] coproc_scope = 3\n",
            "vta.coproc_dep_pop(2, 3)\n",
            "produce C {\n",
            "  VTAStoreBuffer2D(tvm_thread_context(VTATLSCommandHandle()), 0, 4, C, 0, 2, 1, 2)\n",
            "}\n",
            "vta.coproc_sync()\n",
            "\n"
          ],
          "name": "stdout"
        }
      ]
    },
    {
      "cell_type": "code",
      "metadata": {
        "id": "EMM_HYQeojqU",
        "colab_type": "code",
        "colab": {}
      },
      "source": [
        "# Build GEMM VTA kernel (set debug flags)\n",
        "with vta.build_config(debug_flag = 0x6):\n",
        "    my_gemm = tvm.build(s, [A, B, C], \"ext_dev\",\n",
        "                        env.target_host, name=\"my_gemm\")\n",
        "\n",
        "# Write the compiled module into an object file.\n",
        "temp = util.tempdir()\n",
        "my_gemm.save(temp.relpath(\"gemm.o\"))\n",
        "\n",
        "# Send the executable over RPC\n",
        "remote.upload(temp.relpath(\"gemm.o\"))\n",
        "\n",
        "# Load the compiled module\n",
        "f = remote.load_module(\"gemm.o\")"
      ],
      "execution_count": 0,
      "outputs": []
    },
    {
      "cell_type": "code",
      "metadata": {
        "id": "cFLZLjQWom70",
        "colab_type": "code",
        "colab": {}
      },
      "source": [
        "# Get the remote device context\n",
        "ctx = remote.ext_dev(0)\n",
        "\n",
        "# Initialize the A and B arrays randomly in the int range of (-128, 128]\n",
        "A_orig = np.random.randint(\n",
        "    -128, 128,\n",
        "    size=(o * env.BATCH, n * env.BLOCK_IN)).astype(A.dtype)\n",
        "B_orig = np.random.randint(\n",
        "    -128, 128,\n",
        "    size=(m * env.BLOCK_OUT, n * env.BLOCK_IN)).astype(B.dtype)\n",
        "\n",
        "# Apply packing to the A and B arrays from a 2D to a 4D packed layout\n",
        "A_packed = A_orig.reshape(\n",
        "    o, env.BATCH, n, env.BLOCK_IN).transpose((0, 2, 1, 3))\n",
        "B_packed = B_orig.reshape(\n",
        "    m, env.BLOCK_OUT, n, env.BLOCK_IN).transpose((0, 2, 1, 3))\n",
        "\n",
        "# Format the input/output arrays with tvm.nd.array to the DLPack standard\n",
        "A_nd = tvm.nd.array(A_packed, ctx)\n",
        "B_nd = tvm.nd.array(B_packed, ctx)\n",
        "C_nd = tvm.nd.array(\n",
        "    np.zeros((o, m, env.BATCH, env.BLOCK_OUT)).astype(C.dtype), ctx)\n",
        "\n",
        "# Invoke the module to perform the computation\n",
        "f(A_nd, B_nd, C_nd)"
      ],
      "execution_count": 0,
      "outputs": []
    },
    {
      "cell_type": "code",
      "metadata": {
        "id": "G_E7Yr6Corfm",
        "colab_type": "code",
        "colab": {
          "base_uri": "https://localhost:8080/",
          "height": 34
        },
        "outputId": "488237dc-11a1-4ac2-c943-908684ff64bc"
      },
      "source": [
        "# Compute reference result with numpy\n",
        "C_ref = np.dot(A_orig.astype(env.acc_dtype),\n",
        "               B_orig.T.astype(env.acc_dtype)).astype(C.dtype)\n",
        "C_ref = C_ref.reshape(\n",
        "    o, env.BATCH, m, env.BLOCK_OUT).transpose((0, 2, 1, 3))\n",
        "np.testing.assert_equal(C_ref, C_nd.asnumpy())\n",
        "print(\"Successful matrix multiply test!\")"
      ],
      "execution_count": 16,
      "outputs": [
        {
          "output_type": "stream",
          "text": [
            "Successful matrix multiply test!\n"
          ],
          "name": "stdout"
        }
      ]
    },
    {
      "cell_type": "markdown",
      "metadata": {
        "id": "3rcrGTkmoyaW",
        "colab_type": "text"
      },
      "source": [
        "**Summary**\n",
        "\n",
        "This tutorial showcases the TVM workflow to implement a simple matrix multiplication example on VTA. The general workflow includes:\n",
        "\n",
        "Programming the FPGA with the VTA bitstream over RPC.\n",
        "Describing matrix multiplication via a series of computations.\n",
        "Describing how we want to perform the computation using schedule primitives.\n",
        "Compiling the function to the VTA target.\n",
        "Running the compiled module and verifying it against a numpy implementation."
      ]
    }
  ]
}